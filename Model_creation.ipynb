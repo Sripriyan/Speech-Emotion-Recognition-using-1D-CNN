{
  "nbformat": 4,
  "nbformat_minor": 0,
  "metadata": {
    "colab": {
      "name": "SER_CNN1D_MFCC_ZCR (1).ipynb",
      "provenance": [],
      "collapsed_sections": []
    },
    "kernelspec": {
      "name": "python3",
      "display_name": "Python 3"
    },
    "language_info": {
      "name": "python"
    },
    "accelerator": "GPU"
  },
  "cells": [
    {
      "cell_type": "code",
      "source": [
        "from google.colab import drive\n",
        "drive.mount('/content/drive')"
      ],
      "metadata": {
        "id": "weHAn3pKILU-",
        "colab": {
          "base_uri": "https://localhost:8080/"
        },
        "outputId": "45c8e91e-2d7e-48da-92af-e37cb69b0bc6"
      },
      "execution_count": null,
      "outputs": [
        {
          "output_type": "stream",
          "name": "stdout",
          "text": [
            "Mounted at /content/drive\n"
          ]
        }
      ]
    },
    {
      "cell_type": "code",
      "execution_count": null,
      "metadata": {
        "id": "gsmGH39Zskas"
      },
      "outputs": [],
      "source": [
        "import numpy as np\n",
        "import pandas as pd \n",
        "import os\n",
        "import matplotlib.pyplot as plt\n",
        "import seaborn as sns\n",
        "import librosa as lb\n",
        "import librosa.display as  ldisplay\n",
        "from IPython.display import Audio\n",
        "\n",
        "from sklearn.model_selection import train_test_split\n",
        "from sklearn.preprocessing import StandardScaler\n",
        "from sklearn.preprocessing import LabelEncoder\n",
        "\n",
        "import tensorflow as tf\n",
        "from tensorflow.keras.models import Sequential\n",
        "from tensorflow.keras.layers import Dense, Conv1D,MaxPooling1D,Flatten, Dropout, BatchNormalization\n",
        "from keras import Input\n",
        "from tensorflow.keras.optimizers import Adam,RMSprop\n",
        "from keras.utils import np_utils\n",
        "from tensorflow.python.keras.callbacks import EarlyStopping, ReduceLROnPlateau"
      ]
    },
    {
      "cell_type": "code",
      "source": [
        "feature_emotion_df=pd.read_csv('/content/drive/MyDrive/praneeth/Feature_extracted_dataset (3).csv')"
      ],
      "metadata": {
        "id": "zAQEO2EfuYkY"
      },
      "execution_count": null,
      "outputs": []
    },
    {
      "cell_type": "code",
      "source": [
        "feature_emotion_df.head()"
      ],
      "metadata": {
        "id": "sMc_sfgEusBz",
        "colab": {
          "base_uri": "https://localhost:8080/",
          "height": 299
        },
        "outputId": "7f3ca990-9acd-4033-ae86-ca782c18ec22"
      },
      "execution_count": null,
      "outputs": [
        {
          "output_type": "execute_result",
          "data": {
            "text/plain": [
              "          0         1         2         3         4         5         6  \\\n",
              "0  0.065430  0.071289  0.071289  0.052246  0.048340  0.106445  0.171387   \n",
              "1  0.262207  0.386230  0.518555  0.517090  0.508789  0.520020  0.510254   \n",
              "2  0.063965  0.068359  0.068359  0.058594  0.073242  0.135742  0.201172   \n",
              "3  0.209473  0.254883  0.254883  0.176758  0.132324  0.174316  0.263184   \n",
              "4  0.044922  0.061035  0.076172  0.066406  0.069336  0.065918  0.070801   \n",
              "\n",
              "          7         8         9  ...       2259       2260       2261  \\\n",
              "0  0.228027  0.248047  0.235840  ...  24.838633  12.986765 -14.747004   \n",
              "1  0.519043  0.515625  0.512695  ...  15.930484   9.471877  -1.277585   \n",
              "2  0.257324  0.236816  0.213379  ...  28.065681   3.222074 -19.927702   \n",
              "3  0.332520  0.323730  0.304688  ...  25.137230   4.358447 -16.416542   \n",
              "4  0.055664  0.052734  0.063477  ...   2.206598   9.609125 -10.786152   \n",
              "\n",
              "       2262       2263       2264       2265      2266       2267  Emotion  \n",
              "0  4.591933  -2.150724 -12.089533 -12.665945 -0.801496 -16.449780    angry  \n",
              "1 -0.975825  -2.921517 -10.849216  -8.569133 -8.426794 -10.460051    angry  \n",
              "2 -0.588958  -7.595579  -5.199802  -9.166500  0.022583  -5.449619    angry  \n",
              "3  2.289107  -5.057943 -11.831305  -7.739297 -2.064261 -14.117687    angry  \n",
              "4  4.056137  14.608828   8.215265   1.501894  8.435717   6.355412     fear  \n",
              "\n",
              "[5 rows x 2269 columns]"
            ],
            "text/html": [
              "\n",
              "  <div id=\"df-691a3ce8-e1cd-415f-aeaa-ab2da2f172fd\">\n",
              "    <div class=\"colab-df-container\">\n",
              "      <div>\n",
              "<style scoped>\n",
              "    .dataframe tbody tr th:only-of-type {\n",
              "        vertical-align: middle;\n",
              "    }\n",
              "\n",
              "    .dataframe tbody tr th {\n",
              "        vertical-align: top;\n",
              "    }\n",
              "\n",
              "    .dataframe thead th {\n",
              "        text-align: right;\n",
              "    }\n",
              "</style>\n",
              "<table border=\"1\" class=\"dataframe\">\n",
              "  <thead>\n",
              "    <tr style=\"text-align: right;\">\n",
              "      <th></th>\n",
              "      <th>0</th>\n",
              "      <th>1</th>\n",
              "      <th>2</th>\n",
              "      <th>3</th>\n",
              "      <th>4</th>\n",
              "      <th>5</th>\n",
              "      <th>6</th>\n",
              "      <th>7</th>\n",
              "      <th>8</th>\n",
              "      <th>9</th>\n",
              "      <th>...</th>\n",
              "      <th>2259</th>\n",
              "      <th>2260</th>\n",
              "      <th>2261</th>\n",
              "      <th>2262</th>\n",
              "      <th>2263</th>\n",
              "      <th>2264</th>\n",
              "      <th>2265</th>\n",
              "      <th>2266</th>\n",
              "      <th>2267</th>\n",
              "      <th>Emotion</th>\n",
              "    </tr>\n",
              "  </thead>\n",
              "  <tbody>\n",
              "    <tr>\n",
              "      <th>0</th>\n",
              "      <td>0.065430</td>\n",
              "      <td>0.071289</td>\n",
              "      <td>0.071289</td>\n",
              "      <td>0.052246</td>\n",
              "      <td>0.048340</td>\n",
              "      <td>0.106445</td>\n",
              "      <td>0.171387</td>\n",
              "      <td>0.228027</td>\n",
              "      <td>0.248047</td>\n",
              "      <td>0.235840</td>\n",
              "      <td>...</td>\n",
              "      <td>24.838633</td>\n",
              "      <td>12.986765</td>\n",
              "      <td>-14.747004</td>\n",
              "      <td>4.591933</td>\n",
              "      <td>-2.150724</td>\n",
              "      <td>-12.089533</td>\n",
              "      <td>-12.665945</td>\n",
              "      <td>-0.801496</td>\n",
              "      <td>-16.449780</td>\n",
              "      <td>angry</td>\n",
              "    </tr>\n",
              "    <tr>\n",
              "      <th>1</th>\n",
              "      <td>0.262207</td>\n",
              "      <td>0.386230</td>\n",
              "      <td>0.518555</td>\n",
              "      <td>0.517090</td>\n",
              "      <td>0.508789</td>\n",
              "      <td>0.520020</td>\n",
              "      <td>0.510254</td>\n",
              "      <td>0.519043</td>\n",
              "      <td>0.515625</td>\n",
              "      <td>0.512695</td>\n",
              "      <td>...</td>\n",
              "      <td>15.930484</td>\n",
              "      <td>9.471877</td>\n",
              "      <td>-1.277585</td>\n",
              "      <td>-0.975825</td>\n",
              "      <td>-2.921517</td>\n",
              "      <td>-10.849216</td>\n",
              "      <td>-8.569133</td>\n",
              "      <td>-8.426794</td>\n",
              "      <td>-10.460051</td>\n",
              "      <td>angry</td>\n",
              "    </tr>\n",
              "    <tr>\n",
              "      <th>2</th>\n",
              "      <td>0.063965</td>\n",
              "      <td>0.068359</td>\n",
              "      <td>0.068359</td>\n",
              "      <td>0.058594</td>\n",
              "      <td>0.073242</td>\n",
              "      <td>0.135742</td>\n",
              "      <td>0.201172</td>\n",
              "      <td>0.257324</td>\n",
              "      <td>0.236816</td>\n",
              "      <td>0.213379</td>\n",
              "      <td>...</td>\n",
              "      <td>28.065681</td>\n",
              "      <td>3.222074</td>\n",
              "      <td>-19.927702</td>\n",
              "      <td>-0.588958</td>\n",
              "      <td>-7.595579</td>\n",
              "      <td>-5.199802</td>\n",
              "      <td>-9.166500</td>\n",
              "      <td>0.022583</td>\n",
              "      <td>-5.449619</td>\n",
              "      <td>angry</td>\n",
              "    </tr>\n",
              "    <tr>\n",
              "      <th>3</th>\n",
              "      <td>0.209473</td>\n",
              "      <td>0.254883</td>\n",
              "      <td>0.254883</td>\n",
              "      <td>0.176758</td>\n",
              "      <td>0.132324</td>\n",
              "      <td>0.174316</td>\n",
              "      <td>0.263184</td>\n",
              "      <td>0.332520</td>\n",
              "      <td>0.323730</td>\n",
              "      <td>0.304688</td>\n",
              "      <td>...</td>\n",
              "      <td>25.137230</td>\n",
              "      <td>4.358447</td>\n",
              "      <td>-16.416542</td>\n",
              "      <td>2.289107</td>\n",
              "      <td>-5.057943</td>\n",
              "      <td>-11.831305</td>\n",
              "      <td>-7.739297</td>\n",
              "      <td>-2.064261</td>\n",
              "      <td>-14.117687</td>\n",
              "      <td>angry</td>\n",
              "    </tr>\n",
              "    <tr>\n",
              "      <th>4</th>\n",
              "      <td>0.044922</td>\n",
              "      <td>0.061035</td>\n",
              "      <td>0.076172</td>\n",
              "      <td>0.066406</td>\n",
              "      <td>0.069336</td>\n",
              "      <td>0.065918</td>\n",
              "      <td>0.070801</td>\n",
              "      <td>0.055664</td>\n",
              "      <td>0.052734</td>\n",
              "      <td>0.063477</td>\n",
              "      <td>...</td>\n",
              "      <td>2.206598</td>\n",
              "      <td>9.609125</td>\n",
              "      <td>-10.786152</td>\n",
              "      <td>4.056137</td>\n",
              "      <td>14.608828</td>\n",
              "      <td>8.215265</td>\n",
              "      <td>1.501894</td>\n",
              "      <td>8.435717</td>\n",
              "      <td>6.355412</td>\n",
              "      <td>fear</td>\n",
              "    </tr>\n",
              "  </tbody>\n",
              "</table>\n",
              "<p>5 rows × 2269 columns</p>\n",
              "</div>\n",
              "      <button class=\"colab-df-convert\" onclick=\"convertToInteractive('df-691a3ce8-e1cd-415f-aeaa-ab2da2f172fd')\"\n",
              "              title=\"Convert this dataframe to an interactive table.\"\n",
              "              style=\"display:none;\">\n",
              "        \n",
              "  <svg xmlns=\"http://www.w3.org/2000/svg\" height=\"24px\"viewBox=\"0 0 24 24\"\n",
              "       width=\"24px\">\n",
              "    <path d=\"M0 0h24v24H0V0z\" fill=\"none\"/>\n",
              "    <path d=\"M18.56 5.44l.94 2.06.94-2.06 2.06-.94-2.06-.94-.94-2.06-.94 2.06-2.06.94zm-11 1L8.5 8.5l.94-2.06 2.06-.94-2.06-.94L8.5 2.5l-.94 2.06-2.06.94zm10 10l.94 2.06.94-2.06 2.06-.94-2.06-.94-.94-2.06-.94 2.06-2.06.94z\"/><path d=\"M17.41 7.96l-1.37-1.37c-.4-.4-.92-.59-1.43-.59-.52 0-1.04.2-1.43.59L10.3 9.45l-7.72 7.72c-.78.78-.78 2.05 0 2.83L4 21.41c.39.39.9.59 1.41.59.51 0 1.02-.2 1.41-.59l7.78-7.78 2.81-2.81c.8-.78.8-2.07 0-2.86zM5.41 20L4 18.59l7.72-7.72 1.47 1.35L5.41 20z\"/>\n",
              "  </svg>\n",
              "      </button>\n",
              "      \n",
              "  <style>\n",
              "    .colab-df-container {\n",
              "      display:flex;\n",
              "      flex-wrap:wrap;\n",
              "      gap: 12px;\n",
              "    }\n",
              "\n",
              "    .colab-df-convert {\n",
              "      background-color: #E8F0FE;\n",
              "      border: none;\n",
              "      border-radius: 50%;\n",
              "      cursor: pointer;\n",
              "      display: none;\n",
              "      fill: #1967D2;\n",
              "      height: 32px;\n",
              "      padding: 0 0 0 0;\n",
              "      width: 32px;\n",
              "    }\n",
              "\n",
              "    .colab-df-convert:hover {\n",
              "      background-color: #E2EBFA;\n",
              "      box-shadow: 0px 1px 2px rgba(60, 64, 67, 0.3), 0px 1px 3px 1px rgba(60, 64, 67, 0.15);\n",
              "      fill: #174EA6;\n",
              "    }\n",
              "\n",
              "    [theme=dark] .colab-df-convert {\n",
              "      background-color: #3B4455;\n",
              "      fill: #D2E3FC;\n",
              "    }\n",
              "\n",
              "    [theme=dark] .colab-df-convert:hover {\n",
              "      background-color: #434B5C;\n",
              "      box-shadow: 0px 1px 3px 1px rgba(0, 0, 0, 0.15);\n",
              "      filter: drop-shadow(0px 1px 2px rgba(0, 0, 0, 0.3));\n",
              "      fill: #FFFFFF;\n",
              "    }\n",
              "  </style>\n",
              "\n",
              "      <script>\n",
              "        const buttonEl =\n",
              "          document.querySelector('#df-691a3ce8-e1cd-415f-aeaa-ab2da2f172fd button.colab-df-convert');\n",
              "        buttonEl.style.display =\n",
              "          google.colab.kernel.accessAllowed ? 'block' : 'none';\n",
              "\n",
              "        async function convertToInteractive(key) {\n",
              "          const element = document.querySelector('#df-691a3ce8-e1cd-415f-aeaa-ab2da2f172fd');\n",
              "          const dataTable =\n",
              "            await google.colab.kernel.invokeFunction('convertToInteractive',\n",
              "                                                     [key], {});\n",
              "          if (!dataTable) return;\n",
              "\n",
              "          const docLinkHtml = 'Like what you see? Visit the ' +\n",
              "            '<a target=\"_blank\" href=https://colab.research.google.com/notebooks/data_table.ipynb>data table notebook</a>'\n",
              "            + ' to learn more about interactive tables.';\n",
              "          element.innerHTML = '';\n",
              "          dataTable['output_type'] = 'display_data';\n",
              "          await google.colab.output.renderOutput(dataTable, element);\n",
              "          const docLink = document.createElement('div');\n",
              "          docLink.innerHTML = docLinkHtml;\n",
              "          element.appendChild(docLink);\n",
              "        }\n",
              "      </script>\n",
              "    </div>\n",
              "  </div>\n",
              "  "
            ]
          },
          "metadata": {},
          "execution_count": 4
        }
      ]
    },
    {
      "cell_type": "code",
      "source": [
        "feature_emotion_df.shape"
      ],
      "metadata": {
        "id": "odorIWzHur9o",
        "colab": {
          "base_uri": "https://localhost:8080/"
        },
        "outputId": "159d64f7-1497-4b8f-a2b4-eb99db8971db"
      },
      "execution_count": null,
      "outputs": [
        {
          "output_type": "execute_result",
          "data": {
            "text/plain": [
              "(38968, 2269)"
            ]
          },
          "metadata": {},
          "execution_count": 5
        }
      ]
    },
    {
      "cell_type": "code",
      "source": [
        "feature_emotion_df= feature_emotion_df.fillna(0)\n",
        "feature_emotion_df.shape"
      ],
      "metadata": {
        "id": "L0Mvbehrur5N",
        "colab": {
          "base_uri": "https://localhost:8080/"
        },
        "outputId": "101cf3a3-cfb8-4dae-9d08-7cbe5457b197"
      },
      "execution_count": null,
      "outputs": [
        {
          "output_type": "execute_result",
          "data": {
            "text/plain": [
              "(38968, 2269)"
            ]
          },
          "metadata": {},
          "execution_count": 6
        }
      ]
    },
    {
      "cell_type": "code",
      "source": [
        "X=feature_emotion_df.iloc[:,:-1].values\n",
        "Y=feature_emotion_df.iloc[:,-1].values\n",
        "X"
      ],
      "metadata": {
        "id": "PzBDDHZEur10",
        "colab": {
          "base_uri": "https://localhost:8080/"
        },
        "outputId": "fbcc65cb-28e9-4230-fcf3-e8a9ab70603f"
      },
      "execution_count": null,
      "outputs": [
        {
          "output_type": "execute_result",
          "data": {
            "text/plain": [
              "array([[ 6.54296875e-02,  7.12890625e-02,  7.12890625e-02, ...,\n",
              "        -1.26659451e+01, -8.01496029e-01, -1.64497795e+01],\n",
              "       [ 2.62207031e-01,  3.86230469e-01,  5.18554688e-01, ...,\n",
              "        -8.56913298e+00, -8.42679413e+00, -1.04600506e+01],\n",
              "       [ 6.39648438e-02,  6.83593750e-02,  6.83593750e-02, ...,\n",
              "        -9.16650009e+00,  2.25828886e-02, -5.44961882e+00],\n",
              "       ...,\n",
              "       [ 2.63671875e-02,  4.19921875e-02,  5.61523438e-02, ...,\n",
              "         0.00000000e+00,  0.00000000e+00,  0.00000000e+00],\n",
              "       [ 1.46484375e-02,  1.90429688e-02,  2.44140625e-02, ...,\n",
              "         0.00000000e+00,  0.00000000e+00,  0.00000000e+00],\n",
              "       [ 1.46484375e-02,  2.00195312e-02,  2.53906250e-02, ...,\n",
              "         0.00000000e+00,  0.00000000e+00,  0.00000000e+00]])"
            ]
          },
          "metadata": {},
          "execution_count": 7
        }
      ]
    },
    {
      "cell_type": "code",
      "source": [
        "X"
      ],
      "metadata": {
        "id": "7P4ZAQ4Nu3Eh",
        "colab": {
          "base_uri": "https://localhost:8080/"
        },
        "outputId": "142afadd-7fb6-459b-857e-9e372c7272f7"
      },
      "execution_count": null,
      "outputs": [
        {
          "output_type": "execute_result",
          "data": {
            "text/plain": [
              "array([[ 6.54296875e-02,  7.12890625e-02,  7.12890625e-02, ...,\n",
              "        -1.26659451e+01, -8.01496029e-01, -1.64497795e+01],\n",
              "       [ 2.62207031e-01,  3.86230469e-01,  5.18554688e-01, ...,\n",
              "        -8.56913298e+00, -8.42679413e+00, -1.04600506e+01],\n",
              "       [ 6.39648438e-02,  6.83593750e-02,  6.83593750e-02, ...,\n",
              "        -9.16650009e+00,  2.25828886e-02, -5.44961882e+00],\n",
              "       ...,\n",
              "       [ 2.63671875e-02,  4.19921875e-02,  5.61523438e-02, ...,\n",
              "         0.00000000e+00,  0.00000000e+00,  0.00000000e+00],\n",
              "       [ 1.46484375e-02,  1.90429688e-02,  2.44140625e-02, ...,\n",
              "         0.00000000e+00,  0.00000000e+00,  0.00000000e+00],\n",
              "       [ 1.46484375e-02,  2.00195312e-02,  2.53906250e-02, ...,\n",
              "         0.00000000e+00,  0.00000000e+00,  0.00000000e+00]])"
            ]
          },
          "metadata": {},
          "execution_count": 8
        }
      ]
    },
    {
      "cell_type": "code",
      "source": [
        "from keras.utils import np_utils\n",
        "from sklearn.preprocessing import LabelEncoder, StandardScaler\n",
        "LE = LabelEncoder()\n",
        "Y = np_utils.to_categorical(LE.fit_transform(Y))"
      ],
      "metadata": {
        "id": "qEm936eDu3B0"
      },
      "execution_count": null,
      "outputs": []
    },
    {
      "cell_type": "code",
      "source": [
        "Y"
      ],
      "metadata": {
        "id": "_7PprAWJu8Cp",
        "colab": {
          "base_uri": "https://localhost:8080/"
        },
        "outputId": "434cae51-6d6b-4ac7-cb5b-2c583a5a589d"
      },
      "execution_count": null,
      "outputs": [
        {
          "output_type": "execute_result",
          "data": {
            "text/plain": [
              "array([[1., 0., 0., 0., 0., 0.],\n",
              "       [1., 0., 0., 0., 0., 0.],\n",
              "       [1., 0., 0., 0., 0., 0.],\n",
              "       ...,\n",
              "       [0., 0., 0., 0., 1., 0.],\n",
              "       [0., 0., 0., 0., 1., 0.],\n",
              "       [0., 0., 0., 0., 1., 0.]], dtype=float32)"
            ]
          },
          "metadata": {},
          "execution_count": 10
        }
      ]
    },
    {
      "cell_type": "code",
      "source": [
        "x_train,x_test,y_train,y_test=train_test_split(X,Y,test_size=0.07,random_state=40)\n",
        "x_train,x_validation,y_train,y_validation=train_test_split(x_train,y_train,test_size=0.25,random_state=40)"
      ],
      "metadata": {
        "id": "IE3_b37su8AE"
      },
      "execution_count": null,
      "outputs": []
    },
    {
      "cell_type": "code",
      "source": [
        "x_train.shape,y_train.shape,x_validation.shape,y_validation.shape,x_test.shape,y_test.shape"
      ],
      "metadata": {
        "id": "7LKt6jf_u79r",
        "colab": {
          "base_uri": "https://localhost:8080/"
        },
        "outputId": "c35b90f6-9fcf-4c57-cd65-d5400ee00512"
      },
      "execution_count": null,
      "outputs": [
        {
          "output_type": "execute_result",
          "data": {
            "text/plain": [
              "((27180, 2268), (27180, 6), (9060, 2268), (9060, 6), (2728, 2268), (2728, 6))"
            ]
          },
          "metadata": {},
          "execution_count": 12
        }
      ]
    },
    {
      "cell_type": "code",
      "source": [
        "sc=StandardScaler()\n",
        "x_train=sc.fit_transform(x_train)\n",
        "x_test=sc.transform(x_test)\n",
        "x_validation=sc.transform(x_validation)"
      ],
      "metadata": {
        "id": "EeU9ckGHu766"
      },
      "execution_count": null,
      "outputs": []
    },
    {
      "cell_type": "code",
      "source": [
        "x_train=np.expand_dims(x_train,axis=2)\n",
        "x_test=np.expand_dims(x_test,axis=2)\n",
        "x_validation=np.expand_dims(x_validation,axis=2)"
      ],
      "metadata": {
        "id": "5qeKROZIu2--"
      },
      "execution_count": null,
      "outputs": []
    },
    {
      "cell_type": "code",
      "source": [
        "x_train.shape,y_train.shape,x_validation.shape,y_validation.shape,x_test.shape,y_test.shape"
      ],
      "metadata": {
        "id": "GE7rS4YXury-",
        "colab": {
          "base_uri": "https://localhost:8080/"
        },
        "outputId": "16e4a6b9-83f0-4adf-b277-5e3d965eeba5"
      },
      "execution_count": null,
      "outputs": [
        {
          "output_type": "execute_result",
          "data": {
            "text/plain": [
              "((27180, 2268, 1),\n",
              " (27180, 6),\n",
              " (9060, 2268, 1),\n",
              " (9060, 6),\n",
              " (2728, 2268, 1),\n",
              " (2728, 6))"
            ]
          },
          "metadata": {},
          "execution_count": 15
        }
      ]
    },
    {
      "cell_type": "code",
      "source": [
        "x_train.shape[1]"
      ],
      "metadata": {
        "id": "U9_9MYHnurwA",
        "colab": {
          "base_uri": "https://localhost:8080/"
        },
        "outputId": "721d4c18-fb7c-4095-d079-010110f4c027"
      },
      "execution_count": null,
      "outputs": [
        {
          "output_type": "execute_result",
          "data": {
            "text/plain": [
              "2268"
            ]
          },
          "metadata": {},
          "execution_count": 16
        }
      ]
    },
    {
      "cell_type": "code",
      "source": [
        "from keras import backend as K\n",
        "\n",
        "def recall_m(y_true, y_pred):\n",
        "    true_positives = K.sum(K.round(K.clip(y_true * y_pred, 0, 1)))\n",
        "    possible_positives = K.sum(K.round(K.clip(y_true, 0, 1)))\n",
        "    recall = true_positives / (possible_positives + K.epsilon())\n",
        "    return recall\n",
        "\n",
        "def precision_m(y_true, y_pred):\n",
        "    true_positives = K.sum(K.round(K.clip(y_true * y_pred, 0, 1)))\n",
        "    predicted_positives = K.sum(K.round(K.clip(y_pred, 0, 1)))\n",
        "    precision = true_positives / (predicted_positives + K.epsilon())\n",
        "    return precision\n",
        "\n",
        "def f1_m(y_true, y_pred):\n",
        "    precision = precision_m(y_true, y_pred)\n",
        "    recall = recall_m(y_true, y_pred)\n",
        "    return 2*((precision*recall)/(precision+recall+K.epsilon()))"
      ],
      "metadata": {
        "id": "vi9z_QClbGV0"
      },
      "execution_count": null,
      "outputs": []
    },
    {
      "cell_type": "code",
      "source": [
        "model=Sequential()"
      ],
      "metadata": {
        "id": "B0vjT31uvPGM"
      },
      "execution_count": null,
      "outputs": []
    },
    {
      "cell_type": "code",
      "source": [
        "model.add(Conv1D(128,5,activation='relu',input_shape=(x_train.shape[1],x_train.shape[2])))\n",
        "model.add(BatchNormalization())\n",
        "model.add(MaxPooling1D(pool_size=4,strides=2,padding='same'))\n",
        "model.add(Dropout(0.2))\n",
        "\n",
        "model.add(Conv1D(256,5,activation='relu',padding='same'))\n",
        "model.add(Conv1D(256,5,activation='relu',padding='same'))\n",
        "model.add(Conv1D(256,5,activation='relu',padding='same'))\n",
        "model.add(BatchNormalization())\n",
        "model.add(MaxPooling1D(pool_size=4,strides=2))\n",
        "model.add(Dropout(0.2))\n",
        "\n",
        "model.add(Conv1D(512,5,activation='relu',padding='same'))\n",
        "model.add(Conv1D(512,5,activation='relu',padding='same'))\n",
        "model.add(Conv1D(512,5,activation='relu',padding='same'))\n",
        "model.add(BatchNormalization())\n",
        "model.add(MaxPooling1D(pool_size=4,strides=2))\n",
        "model.add(Dropout(0.2))\n",
        "\n",
        "model.add(Conv1D(128,3,activation='relu',padding='same'))\n",
        "model.add(Conv1D(128,3,activation='relu',padding='same'))\n",
        "model.add(BatchNormalization())\n",
        "model.add(MaxPooling1D(pool_size=4,strides=2))\n",
        "model.add(Dropout(0.2))\n",
        "\n",
        "model.add(Flatten())\n",
        "\n",
        "model.add(Dense(512,activation='relu'))\n",
        "model.add(Dropout(0.2))\n",
        "model.add(Dense(128,activation='relu'))\n",
        "model.add(BatchNormalization())\n",
        "model.add(Dense(6,activation='softmax'))"
      ],
      "metadata": {
        "id": "icTumdeyvPCZ"
      },
      "execution_count": null,
      "outputs": []
    },
    {
      "cell_type": "code",
      "source": [
        "model.compile(optimizer=\"Adam\",loss='categorical_crossentropy',metrics=['accuracy',f1_m])"
      ],
      "metadata": {
        "id": "D4N-plzbNfTD"
      },
      "execution_count": null,
      "outputs": []
    },
    {
      "cell_type": "code",
      "source": [
        "model.summary()"
      ],
      "metadata": {
        "id": "LYaK_MUCOeis",
        "colab": {
          "base_uri": "https://localhost:8080/"
        },
        "outputId": "c56ee04b-7c28-46b6-9db4-d9e83471cf6b"
      },
      "execution_count": null,
      "outputs": [
        {
          "output_type": "stream",
          "name": "stdout",
          "text": [
            "Model: \"sequential\"\n",
            "_________________________________________________________________\n",
            " Layer (type)                Output Shape              Param #   \n",
            "=================================================================\n",
            " conv1d (Conv1D)             (None, 2264, 128)         768       \n",
            "                                                                 \n",
            " batch_normalization (BatchN  (None, 2264, 128)        512       \n",
            " ormalization)                                                   \n",
            "                                                                 \n",
            " max_pooling1d (MaxPooling1D  (None, 1132, 128)        0         \n",
            " )                                                               \n",
            "                                                                 \n",
            " dropout (Dropout)           (None, 1132, 128)         0         \n",
            "                                                                 \n",
            " conv1d_1 (Conv1D)           (None, 1132, 256)         164096    \n",
            "                                                                 \n",
            " conv1d_2 (Conv1D)           (None, 1132, 256)         327936    \n",
            "                                                                 \n",
            " conv1d_3 (Conv1D)           (None, 1132, 256)         327936    \n",
            "                                                                 \n",
            " batch_normalization_1 (Batc  (None, 1132, 256)        1024      \n",
            " hNormalization)                                                 \n",
            "                                                                 \n",
            " max_pooling1d_1 (MaxPooling  (None, 565, 256)         0         \n",
            " 1D)                                                             \n",
            "                                                                 \n",
            " dropout_1 (Dropout)         (None, 565, 256)          0         \n",
            "                                                                 \n",
            " conv1d_4 (Conv1D)           (None, 565, 512)          655872    \n",
            "                                                                 \n",
            " conv1d_5 (Conv1D)           (None, 565, 512)          1311232   \n",
            "                                                                 \n",
            " conv1d_6 (Conv1D)           (None, 565, 512)          1311232   \n",
            "                                                                 \n",
            " batch_normalization_2 (Batc  (None, 565, 512)         2048      \n",
            " hNormalization)                                                 \n",
            "                                                                 \n",
            " max_pooling1d_2 (MaxPooling  (None, 281, 512)         0         \n",
            " 1D)                                                             \n",
            "                                                                 \n",
            " dropout_2 (Dropout)         (None, 281, 512)          0         \n",
            "                                                                 \n",
            " conv1d_7 (Conv1D)           (None, 281, 128)          196736    \n",
            "                                                                 \n",
            " conv1d_8 (Conv1D)           (None, 281, 128)          49280     \n",
            "                                                                 \n",
            " batch_normalization_3 (Batc  (None, 281, 128)         512       \n",
            " hNormalization)                                                 \n",
            "                                                                 \n",
            " max_pooling1d_3 (MaxPooling  (None, 139, 128)         0         \n",
            " 1D)                                                             \n",
            "                                                                 \n",
            " dropout_3 (Dropout)         (None, 139, 128)          0         \n",
            "                                                                 \n",
            " flatten (Flatten)           (None, 17792)             0         \n",
            "                                                                 \n",
            " dense (Dense)               (None, 512)               9110016   \n",
            "                                                                 \n",
            " dropout_4 (Dropout)         (None, 512)               0         \n",
            "                                                                 \n",
            " dense_1 (Dense)             (None, 128)               65664     \n",
            "                                                                 \n",
            " batch_normalization_4 (Batc  (None, 128)              512       \n",
            " hNormalization)                                                 \n",
            "                                                                 \n",
            " dense_2 (Dense)             (None, 6)                 774       \n",
            "                                                                 \n",
            "=================================================================\n",
            "Total params: 13,526,150\n",
            "Trainable params: 13,523,846\n",
            "Non-trainable params: 2,304\n",
            "_________________________________________________________________\n"
          ]
        }
      ]
    },
    {
      "cell_type": "code",
      "source": [
        "earlystopping = EarlyStopping(monitor =\"val_accuracy\",\n",
        "                              mode = 'auto', patience = 5,\n",
        "                              restore_best_weights = True)\n",
        "\n",
        "learning_rate_reduction = ReduceLROnPlateau(monitor='val_accuracy',\n",
        "                                            patience=3,\n",
        "                                            verbose=1,\n",
        "                                            factor=0.5,\n",
        "                                            min_lr=0.00001)"
      ],
      "metadata": {
        "id": "_2fygplNSs9H"
      },
      "execution_count": null,
      "outputs": []
    },
    {
      "cell_type": "code",
      "source": [
        "history=model.fit(x_train,y_train,batch_size=64,epochs=18,validation_data=(x_validation,y_validation),\n",
        "          validation_batch_size=32, callbacks=[earlystopping, learning_rate_reduction])"
      ],
      "metadata": {
        "id": "U7U0wrVjOhUU",
        "colab": {
          "base_uri": "https://localhost:8080/"
        },
        "outputId": "7e8503a4-72ed-446d-8436-11bdf573d510"
      },
      "execution_count": null,
      "outputs": [
        {
          "output_type": "stream",
          "name": "stdout",
          "text": [
            "Epoch 1/18\n",
            "425/425 [==============================] - 170s 370ms/step - loss: 1.4733 - accuracy: 0.4048 - f1_m: 0.2768 - val_loss: 2.1243 - val_accuracy: 0.3113 - val_f1_m: 0.2701 - lr: 0.0010\n",
            "Epoch 2/18\n",
            "425/425 [==============================] - 167s 393ms/step - loss: 1.2707 - accuracy: 0.4924 - f1_m: 0.4036 - val_loss: 1.2745 - val_accuracy: 0.5045 - val_f1_m: 0.4499 - lr: 0.0010\n",
            "Epoch 3/18\n",
            "425/425 [==============================] - 167s 392ms/step - loss: 1.1707 - accuracy: 0.5389 - f1_m: 0.4650 - val_loss: 1.2793 - val_accuracy: 0.5105 - val_f1_m: 0.4736 - lr: 0.0010\n",
            "Epoch 4/18\n",
            "425/425 [==============================] - 168s 395ms/step - loss: 1.0794 - accuracy: 0.5744 - f1_m: 0.5212 - val_loss: 1.0635 - val_accuracy: 0.5777 - val_f1_m: 0.5165 - lr: 0.0010\n",
            "Epoch 5/18\n",
            "425/425 [==============================] - 168s 396ms/step - loss: 0.9965 - accuracy: 0.6152 - f1_m: 0.5691 - val_loss: 1.0739 - val_accuracy: 0.5911 - val_f1_m: 0.5498 - lr: 0.0010\n",
            "Epoch 6/18\n",
            "425/425 [==============================] - 168s 395ms/step - loss: 0.8561 - accuracy: 0.6713 - f1_m: 0.6429 - val_loss: 0.8425 - val_accuracy: 0.6785 - val_f1_m: 0.6377 - lr: 0.0010\n",
            "Epoch 7/18\n",
            "425/425 [==============================] - 168s 396ms/step - loss: 0.7068 - accuracy: 0.7358 - f1_m: 0.7227 - val_loss: 0.7345 - val_accuracy: 0.7310 - val_f1_m: 0.7136 - lr: 0.0010\n",
            "Epoch 8/18\n",
            "425/425 [==============================] - 168s 394ms/step - loss: 0.5439 - accuracy: 0.8001 - f1_m: 0.7939 - val_loss: 0.9060 - val_accuracy: 0.6712 - val_f1_m: 0.6600 - lr: 0.0010\n",
            "Epoch 9/18\n",
            "425/425 [==============================] - 168s 395ms/step - loss: 0.4168 - accuracy: 0.8515 - f1_m: 0.8485 - val_loss: 0.6082 - val_accuracy: 0.7817 - val_f1_m: 0.7808 - lr: 0.0010\n",
            "Epoch 10/18\n",
            "425/425 [==============================] - 168s 395ms/step - loss: 0.3035 - accuracy: 0.8926 - f1_m: 0.8924 - val_loss: 0.4165 - val_accuracy: 0.8596 - val_f1_m: 0.8589 - lr: 0.0010\n",
            "Epoch 11/18\n",
            "425/425 [==============================] - 167s 394ms/step - loss: 0.2382 - accuracy: 0.9146 - f1_m: 0.9149 - val_loss: 0.5678 - val_accuracy: 0.8050 - val_f1_m: 0.8055 - lr: 0.0010\n",
            "Epoch 12/18\n",
            "425/425 [==============================] - 167s 393ms/step - loss: 0.2046 - accuracy: 0.9294 - f1_m: 0.9286 - val_loss: 0.5900 - val_accuracy: 0.7989 - val_f1_m: 0.8000 - lr: 0.0010\n",
            "Epoch 13/18\n",
            "425/425 [==============================] - ETA: 0s - loss: 0.1749 - accuracy: 0.9398 - f1_m: 0.9393\n",
            "Epoch 00013: ReduceLROnPlateau reducing learning rate to 0.0005000000237487257.\n",
            "425/425 [==============================] - 167s 394ms/step - loss: 0.1749 - accuracy: 0.9398 - f1_m: 0.9393 - val_loss: 0.4684 - val_accuracy: 0.8453 - val_f1_m: 0.8472 - lr: 0.0010\n",
            "Epoch 14/18\n",
            "425/425 [==============================] - 166s 391ms/step - loss: 0.0974 - accuracy: 0.9674 - f1_m: 0.9679 - val_loss: 0.2100 - val_accuracy: 0.9383 - val_f1_m: 0.9382 - lr: 5.0000e-04\n",
            "Epoch 15/18\n",
            "425/425 [==============================] - 167s 393ms/step - loss: 0.0691 - accuracy: 0.9777 - f1_m: 0.9780 - val_loss: 0.2130 - val_accuracy: 0.9400 - val_f1_m: 0.9413 - lr: 5.0000e-04\n",
            "Epoch 16/18\n",
            "425/425 [==============================] - 167s 394ms/step - loss: 0.0661 - accuracy: 0.9795 - f1_m: 0.9796 - val_loss: 0.2092 - val_accuracy: 0.9429 - val_f1_m: 0.9433 - lr: 5.0000e-04\n",
            "Epoch 17/18\n",
            "425/425 [==============================] - 167s 393ms/step - loss: 0.0562 - accuracy: 0.9813 - f1_m: 0.9817 - val_loss: 0.2125 - val_accuracy: 0.9391 - val_f1_m: 0.9396 - lr: 5.0000e-04\n",
            "Epoch 18/18\n",
            "425/425 [==============================] - 167s 393ms/step - loss: 0.0498 - accuracy: 0.9844 - f1_m: 0.9844 - val_loss: 0.2570 - val_accuracy: 0.9279 - val_f1_m: 0.9286 - lr: 5.0000e-04\n"
          ]
        }
      ]
    },
    {
      "cell_type": "code",
      "source": [
        "model.save('ser_cnn1d.h5')"
      ],
      "metadata": {
        "id": "5QlEdqFPPd5A"
      },
      "execution_count": null,
      "outputs": []
    },
    {
      "cell_type": "code",
      "source": [
        "print(\"Accuracy of our model on test data : \" , model.evaluate(x_test,y_test)[1]*100 , \"%\")\n",
        "\n",
        "fig , ax = plt.subplots(1,2)\n",
        "train_acc = history.history['accuracy']\n",
        "train_loss = history.history['loss']\n",
        "test_acc = history.history['val_accuracy']\n",
        "test_loss = history.history['val_loss']\n",
        "\n",
        "fig.set_size_inches(20,6)\n",
        "ax[0].plot(train_loss, label = 'Training Loss')\n",
        "ax[0].plot(test_loss , label = 'Validation Loss')\n",
        "ax[0].set_title('Training & Validation Loss')\n",
        "ax[0].legend()\n",
        "ax[0].set_xlabel(\"Epochs\")\n",
        "\n",
        "ax[1].plot(train_acc, label = 'Training Accuracy')\n",
        "ax[1].plot(test_acc , label = 'Validation Accuracy')\n",
        "ax[1].set_title('Training & Validation Accuracy')\n",
        "ax[1].legend()\n",
        "ax[1].set_xlabel(\"Epochs\")\n",
        "plt.show()"
      ],
      "metadata": {
        "id": "3FG98LPCjDUX",
        "colab": {
          "base_uri": "https://localhost:8080/",
          "height": 425
        },
        "outputId": "bc6bb096-2f54-4585-b5e8-073321c39490"
      },
      "execution_count": null,
      "outputs": [
        {
          "output_type": "stream",
          "name": "stdout",
          "text": [
            "86/86 [==============================] - 5s 59ms/step - loss: 0.2511 - accuracy: 0.9373 - f1_m: 0.9389\n",
            "Accuracy of our model on test data :  93.73167157173157 %\n"
          ]
        },
        {
          "output_type": "display_data",
          "data": {
            "text/plain": [
              "<Figure size 1440x432 with 2 Axes>"
            ],
            "image/png": "[encoded data removed]"
          },
          "metadata": {
            "needs_background": "light"
          }
        }
      ]
    },
    {
      "cell_type": "code",
      "source": [
        "model.save('best_model.hdf5')"
      ],
      "metadata": {
        "id": "pA4Xo1bZnSLn"
      },
      "execution_count": null,
      "outputs": []
    },
    {
      "cell_type": "code",
      "source": [
        ""
      ],
      "metadata": {
        "id": "rykTTo9TbUHg"
      },
      "execution_count": null,
      "outputs": []
    }
  ]
}